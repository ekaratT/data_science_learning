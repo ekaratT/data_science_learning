{
 "cells": [
  {
   "cell_type": "code",
   "execution_count": 40,
   "id": "66cd0201-2743-46f9-a50b-c74aa5933298",
   "metadata": {
    "tags": []
   },
   "outputs": [],
   "source": [
    "import pandas as pd\n",
    "import numpy as np\n",
    "%matplotlib inline"
   ]
  },
  {
   "cell_type": "markdown",
   "id": "027ca63b-9737-4071-b6e0-87d4ccf412d0",
   "metadata": {},
   "source": [
    "### 2.6 Quartile"
   ]
  },
  {
   "cell_type": "code",
   "execution_count": 23,
   "id": "3e3575c0-63ea-49f8-8911-e3e20326eb8d",
   "metadata": {
    "tags": []
   },
   "outputs": [
    {
     "data": {
      "text/plain": [
       "0     1\n",
       "1     2\n",
       "2     3\n",
       "3     4\n",
       "4     5\n",
       "5     6\n",
       "6     7\n",
       "7     8\n",
       "8     9\n",
       "9    10\n",
       "dtype: int64"
      ]
     },
     "execution_count": 23,
     "metadata": {},
     "output_type": "execute_result"
    }
   ],
   "source": [
    "data = [1, 2, 3, 4, 5, 6, 7, 8, 9, 10]\n",
    "ds = pd.Series(data)\n",
    "ds"
   ]
  },
  {
   "cell_type": "code",
   "execution_count": 25,
   "id": "04c1fd79-117f-4364-b7c5-3f66e4f64011",
   "metadata": {
    "tags": []
   },
   "outputs": [
    {
     "data": {
      "text/plain": [
       "count    10.00000\n",
       "mean      5.50000\n",
       "std       3.02765\n",
       "min       1.00000\n",
       "25%       3.25000\n",
       "50%       5.50000\n",
       "75%       7.75000\n",
       "max      10.00000\n",
       "dtype: float64"
      ]
     },
     "execution_count": 25,
     "metadata": {},
     "output_type": "execute_result"
    }
   ],
   "source": [
    "ds.describe()"
   ]
  },
  {
   "cell_type": "markdown",
   "id": "cc7ef5f9-96c3-4de3-b63b-7a03bbf18176",
   "metadata": {},
   "source": [
    "##### Q1 or 25%(lower quartile) = 3.25\n",
    "##### Q2 or 50%(median quartile) = 5.5\n",
    "##### Q3 or 75%(upper quartile) = 7.75"
   ]
  },
  {
   "cell_type": "code",
   "execution_count": 35,
   "id": "934363a7-698d-4a32-9627-8a7c01dfeec8",
   "metadata": {
    "tags": []
   },
   "outputs": [
    {
     "data": {
      "text/plain": [
       "0.25    3.25\n",
       "0.50    5.50\n",
       "0.75    7.75\n",
       "dtype: float64"
      ]
     },
     "execution_count": 35,
     "metadata": {},
     "output_type": "execute_result"
    }
   ],
   "source": [
    "ds.quantile([0.25, 0.5, 0.75]) # alternative way of checking quartile, specify each Q"
   ]
  },
  {
   "cell_type": "markdown",
   "id": "ea22d666-114d-46be-a54d-25f4abfb5f0a",
   "metadata": {},
   "source": [
    "### 2.7 Frequency Distribution"
   ]
  },
  {
   "cell_type": "code",
   "execution_count": 42,
   "id": "5a9d07cb-cb7c-42c3-83cd-9ae0a23572e9",
   "metadata": {
    "tags": []
   },
   "outputs": [],
   "source": [
    "data = ['Male', 'Female', 'Female', 'Female', 'Male', 'Female', 'Male', 'Female', 'Male', 'Female']"
   ]
  },
  {
   "cell_type": "code",
   "execution_count": 52,
   "id": "b788828b-0532-48e4-b3c5-b0124eaea863",
   "metadata": {
    "tags": []
   },
   "outputs": [
    {
     "data": {
      "text/plain": [
       "<Axes: >"
      ]
     },
     "execution_count": 52,
     "metadata": {},
     "output_type": "execute_result"
    },
    {
     "data": {
      "image/png": "[encoded data removed]",
      "text/plain": [
       "<Figure size 640x480 with 1 Axes>"
      ]
     },
     "metadata": {},
     "output_type": "display_data"
    }
   ],
   "source": [
    "ds = pd.Series(data)\n",
    "ds.value_counts().plot.bar(grid=True)"
   ]
  },
  {
   "cell_type": "code",
   "execution_count": null,
   "id": "a8dc3a8d-fe37-4dc0-bab3-e6794b24039a",
   "metadata": {},
   "outputs": [],
   "source": []
  }
 ],
 "metadata": {
  "kernelspec": {
   "display_name": "Python 3 (ipykernel)",
   "language": "python",
   "name": "python3"
  },
  "language_info": {
   "codemirror_mode": {
    "name": "ipython",
    "version": 3
   },
   "file_extension": ".py",
   "mimetype": "text/x-python",
   "name": "python",
   "nbconvert_exporter": "python",
   "pygments_lexer": "ipython3",
   "version": "3.11.7"
  }
 },
 "nbformat": 4,
 "nbformat_minor": 5
}
