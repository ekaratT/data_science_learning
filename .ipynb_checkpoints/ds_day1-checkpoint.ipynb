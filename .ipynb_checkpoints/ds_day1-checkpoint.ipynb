{
 "cells": [
  {
   "cell_type": "code",
   "execution_count": 2,
   "id": "d3d2483c-22a7-4fc7-b666-a2f3a09167a4",
   "metadata": {
    "tags": []
   },
   "outputs": [],
   "source": [
    "import numpy as np\n",
    "import pandas as pd"
   ]
  },
  {
   "cell_type": "markdown",
   "id": "de0e747f-dbe6-4be8-9358-2d7708a65570",
   "metadata": {},
   "source": [
    "# 1.Pandas data series"
   ]
  },
  {
   "cell_type": "markdown",
   "id": "b5c8f9be-9ef3-4df1-a147-9d54a350899e",
   "metadata": {
    "tags": []
   },
   "source": [
    "### 1.1 Create data series from python list and specify index"
   ]
  },
  {
   "cell_type": "code",
   "execution_count": 6,
   "id": "5784db5f-e59c-426d-9e08-6a41ddf6a62d",
   "metadata": {
    "tags": []
   },
   "outputs": [
    {
     "data": {
      "text/plain": [
       "no1    5\n",
       "no2    6\n",
       "no3    3\n",
       "no4    4\n",
       "no5    1\n",
       "dtype: int64"
      ]
     },
     "execution_count": 6,
     "metadata": {},
     "output_type": "execute_result"
    }
   ],
   "source": [
    "data = [5,6,3,4,1]\n",
    "idx = ['no1', 'no2', 'no3', 'no4', 'no5']\n",
    "ps = pd.Series(data, index=idx)\n",
    "ps"
   ]
  },
  {
   "cell_type": "markdown",
   "id": "94b99ca7-cddd-4cec-92f9-bbeef0c18d3e",
   "metadata": {},
   "source": [
    "### 1.2 Create data series from python dictionary"
   ]
  },
  {
   "cell_type": "code",
   "execution_count": 8,
   "id": "32cd8497-82e9-4144-9dd9-301879600126",
   "metadata": {
    "tags": []
   },
   "outputs": [
    {
     "data": {
      "text/plain": [
       "Kate       99\n",
       "Aoy       100\n",
       "Jane       87\n",
       "Arther     84\n",
       "dtype: int64"
      ]
     },
     "execution_count": 8,
     "metadata": {},
     "output_type": "execute_result"
    }
   ],
   "source": [
    "scores = {'Kate': 99, 'Aoy': 100, 'Jane': 87, 'Arther': 84}\n",
    "ps = pd.Series(scores)\n",
    "ps"
   ]
  },
  {
   "cell_type": "markdown",
   "id": "1cd98cb5-429a-439d-9e3e-fe2781acd339",
   "metadata": {
    "tags": []
   },
   "source": [
    "### 1.3 Accessing data series by index and index slicing"
   ]
  },
  {
   "cell_type": "code",
   "execution_count": 86,
   "id": "06ee256a-2ff6-498e-9be6-f860cc8f62b7",
   "metadata": {
    "tags": []
   },
   "outputs": [
    {
     "data": {
      "text/plain": [
       "'Accessing by specify index ps[\"Kate\"] then we get: 99'"
      ]
     },
     "execution_count": 86,
     "metadata": {},
     "output_type": "execute_result"
    }
   ],
   "source": [
    "# By index\n",
    "cmd = 'ps[\"Kate\"]'\n",
    "f'Accessing by specify index {cmd} then we get: {ps[\"Kate\"]}'"
   ]
  },
  {
   "cell_type": "code",
   "execution_count": 100,
   "id": "3852636b-b66e-4fec-b370-82c09153b1db",
   "metadata": {
    "tags": []
   },
   "outputs": [
    {
     "data": {
      "text/plain": [
       "'By slicing index ps[2:] we will get Jane      87\\nArther    84\\ndtype: int64'"
      ]
     },
     "execution_count": 100,
     "metadata": {},
     "output_type": "execute_result"
    }
   ],
   "source": [
    "# By slicing index\n",
    "scmd = 'ps[2:]'\n",
    "f'By slicing index {scmd} we will get {ps[2:]}' # Index 2 which is Jane to the last index which is Arther"
   ]
  },
  {
   "cell_type": "markdown",
   "id": "13d3473f-0f8e-4148-b55b-7dc51d0426a8",
   "metadata": {
    "tags": []
   },
   "source": [
    "# 2.Pandas dataframe"
   ]
  },
  {
   "cell_type": "markdown",
   "id": "9c321a02-77c5-4f37-b586-3805bc01c281",
   "metadata": {},
   "source": [
    "### 2.1 Create dataframe fro 1 dimensional list"
   ]
  },
  {
   "cell_type": "code",
   "execution_count": 67,
   "id": "5839be01-6b01-4cca-a967-468a2e308fe5",
   "metadata": {
    "tags": []
   },
   "outputs": [
    {
     "data": {
      "text/html": [
       "<div>\n",
       "<style scoped>\n",
       "    .dataframe tbody tr th:only-of-type {\n",
       "        vertical-align: middle;\n",
       "    }\n",
       "\n",
       "    .dataframe tbody tr th {\n",
       "        vertical-align: top;\n",
       "    }\n",
       "\n",
       "    .dataframe thead th {\n",
       "        text-align: right;\n",
       "    }\n",
       "</style>\n",
       "<table border=\"1\" class=\"dataframe\">\n",
       "  <thead>\n",
       "    <tr style=\"text-align: right;\">\n",
       "      <th></th>\n",
       "      <th>Day</th>\n",
       "    </tr>\n",
       "  </thead>\n",
       "  <tbody>\n",
       "    <tr>\n",
       "      <th>0</th>\n",
       "      <td>Sunday</td>\n",
       "    </tr>\n",
       "    <tr>\n",
       "      <th>1</th>\n",
       "      <td>Monday</td>\n",
       "    </tr>\n",
       "    <tr>\n",
       "      <th>2</th>\n",
       "      <td>Tuesday</td>\n",
       "    </tr>\n",
       "    <tr>\n",
       "      <th>3</th>\n",
       "      <td>Wednesday</td>\n",
       "    </tr>\n",
       "    <tr>\n",
       "      <th>4</th>\n",
       "      <td>Thursday</td>\n",
       "    </tr>\n",
       "    <tr>\n",
       "      <th>5</th>\n",
       "      <td>Friday</td>\n",
       "    </tr>\n",
       "    <tr>\n",
       "      <th>6</th>\n",
       "      <td>Saturday</td>\n",
       "    </tr>\n",
       "  </tbody>\n",
       "</table>\n",
       "</div>"
      ],
      "text/plain": [
       "         Day\n",
       "0     Sunday\n",
       "1     Monday\n",
       "2    Tuesday\n",
       "3  Wednesday\n",
       "4   Thursday\n",
       "5     Friday\n",
       "6   Saturday"
      ]
     },
     "execution_count": 67,
     "metadata": {},
     "output_type": "execute_result"
    }
   ],
   "source": [
    "data = ['Sunday', 'Monday', 'Tuesday', 'Wednesday', 'Thursday', 'Friday', 'Saturday']\n",
    "cols = ['Day']\n",
    "df = pd.DataFrame(data, columns=cols) # Specify column name\n",
    "df"
   ]
  },
  {
   "cell_type": "markdown",
   "id": "1aa47812-ebe9-4099-940b-f0a8cab62f11",
   "metadata": {},
   "source": [
    "### 2.2 Create dataframe from metric"
   ]
  },
  {
   "cell_type": "code",
   "execution_count": 49,
   "id": "00b4a8ac-1164-49e2-86a4-5e227e0a7d93",
   "metadata": {
    "tags": []
   },
   "outputs": [
    {
     "data": {
      "text/html": [
       "<div>\n",
       "<style scoped>\n",
       "    .dataframe tbody tr th:only-of-type {\n",
       "        vertical-align: middle;\n",
       "    }\n",
       "\n",
       "    .dataframe tbody tr th {\n",
       "        vertical-align: top;\n",
       "    }\n",
       "\n",
       "    .dataframe thead th {\n",
       "        text-align: right;\n",
       "    }\n",
       "</style>\n",
       "<table border=\"1\" class=\"dataframe\">\n",
       "  <thead>\n",
       "    <tr style=\"text-align: right;\">\n",
       "      <th></th>\n",
       "      <th>col1</th>\n",
       "      <th>col2</th>\n",
       "      <th>col3</th>\n",
       "    </tr>\n",
       "  </thead>\n",
       "  <tbody>\n",
       "    <tr>\n",
       "      <th>0</th>\n",
       "      <td>1</td>\n",
       "      <td>2</td>\n",
       "      <td>3</td>\n",
       "    </tr>\n",
       "    <tr>\n",
       "      <th>1</th>\n",
       "      <td>4</td>\n",
       "      <td>5</td>\n",
       "      <td>6</td>\n",
       "    </tr>\n",
       "    <tr>\n",
       "      <th>2</th>\n",
       "      <td>7</td>\n",
       "      <td>8</td>\n",
       "      <td>9</td>\n",
       "    </tr>\n",
       "  </tbody>\n",
       "</table>\n",
       "</div>"
      ],
      "text/plain": [
       "   col1  col2  col3\n",
       "0     1     2     3\n",
       "1     4     5     6\n",
       "2     7     8     9"
      ]
     },
     "execution_count": 49,
     "metadata": {},
     "output_type": "execute_result"
    }
   ],
   "source": [
    "data = [\n",
    "    [1, 2, 3],\n",
    "    [4, 5, 6,],\n",
    "    [7, 8, 9]\n",
    "]\n",
    "\n",
    "cols = ['col1', 'col2', 'col3']\n",
    "df = pd.DataFrame(data, columns=cols) # Specify columns name\n",
    "df"
   ]
  },
  {
   "cell_type": "markdown",
   "id": "b21a223d-cfbf-4793-9b1d-3b87864819b7",
   "metadata": {},
   "source": [
    "### 2.3 Create dataframe from multiple list"
   ]
  },
  {
   "cell_type": "code",
   "execution_count": 53,
   "id": "39bc5744-a26c-4817-b940-6da4cd85bdac",
   "metadata": {
    "tags": []
   },
   "outputs": [
    {
     "data": {
      "text/html": [
       "<div>\n",
       "<style scoped>\n",
       "    .dataframe tbody tr th:only-of-type {\n",
       "        vertical-align: middle;\n",
       "    }\n",
       "\n",
       "    .dataframe tbody tr th {\n",
       "        vertical-align: top;\n",
       "    }\n",
       "\n",
       "    .dataframe thead th {\n",
       "        text-align: right;\n",
       "    }\n",
       "</style>\n",
       "<table border=\"1\" class=\"dataframe\">\n",
       "  <thead>\n",
       "    <tr style=\"text-align: right;\">\n",
       "      <th></th>\n",
       "      <th>Name</th>\n",
       "      <th>Age</th>\n",
       "      <th>Programing Language</th>\n",
       "    </tr>\n",
       "  </thead>\n",
       "  <tbody>\n",
       "    <tr>\n",
       "      <th>0</th>\n",
       "      <td>John</td>\n",
       "      <td>35</td>\n",
       "      <td>Python</td>\n",
       "    </tr>\n",
       "    <tr>\n",
       "      <th>1</th>\n",
       "      <td>Jane</td>\n",
       "      <td>40</td>\n",
       "      <td>R</td>\n",
       "    </tr>\n",
       "    <tr>\n",
       "      <th>2</th>\n",
       "      <td>Sam</td>\n",
       "      <td>29</td>\n",
       "      <td>Rust</td>\n",
       "    </tr>\n",
       "  </tbody>\n",
       "</table>\n",
       "</div>"
      ],
      "text/plain": [
       "   Name  Age Programing Language\n",
       "0  John   35              Python\n",
       "1  Jane   40                   R\n",
       "2   Sam   29                Rust"
      ]
     },
     "execution_count": 53,
     "metadata": {},
     "output_type": "execute_result"
    }
   ],
   "source": [
    "names = ['John', 'Jane', 'Sam']\n",
    "ages = [35, 40, 29]\n",
    "programing = ['Python', 'R', 'Rust']\n",
    "df = pd.DataFrame(zip(names, ages, programing), columns=['Name', 'Age', 'Programing Language'])\n",
    "df"
   ]
  },
  {
   "cell_type": "markdown",
   "id": "c18bb6c8-ffde-4cc0-8003-f72e0634d961",
   "metadata": {},
   "source": [
    "### 2.4 Create dataframe from 2 dimensional list, each inner item is row in dataframe"
   ]
  },
  {
   "cell_type": "code",
   "execution_count": 55,
   "id": "6a5fd757-8962-46f0-94ee-fc67d9f7d64b",
   "metadata": {
    "tags": []
   },
   "outputs": [
    {
     "data": {
      "text/html": [
       "<div>\n",
       "<style scoped>\n",
       "    .dataframe tbody tr th:only-of-type {\n",
       "        vertical-align: middle;\n",
       "    }\n",
       "\n",
       "    .dataframe tbody tr th {\n",
       "        vertical-align: top;\n",
       "    }\n",
       "\n",
       "    .dataframe thead th {\n",
       "        text-align: right;\n",
       "    }\n",
       "</style>\n",
       "<table border=\"1\" class=\"dataframe\">\n",
       "  <thead>\n",
       "    <tr style=\"text-align: right;\">\n",
       "      <th></th>\n",
       "      <th>Name</th>\n",
       "      <th>Age</th>\n",
       "      <th>Programing Language</th>\n",
       "    </tr>\n",
       "  </thead>\n",
       "  <tbody>\n",
       "    <tr>\n",
       "      <th>0</th>\n",
       "      <td>John</td>\n",
       "      <td>35</td>\n",
       "      <td>Python</td>\n",
       "    </tr>\n",
       "    <tr>\n",
       "      <th>1</th>\n",
       "      <td>Jane</td>\n",
       "      <td>40</td>\n",
       "      <td>R</td>\n",
       "    </tr>\n",
       "    <tr>\n",
       "      <th>2</th>\n",
       "      <td>Sam</td>\n",
       "      <td>29</td>\n",
       "      <td>Rust</td>\n",
       "    </tr>\n",
       "  </tbody>\n",
       "</table>\n",
       "</div>"
      ],
      "text/plain": [
       "   Name  Age Programing Language\n",
       "0  John   35              Python\n",
       "1  Jane   40                   R\n",
       "2   Sam   29                Rust"
      ]
     },
     "execution_count": 55,
     "metadata": {},
     "output_type": "execute_result"
    }
   ],
   "source": [
    "data = [['John', 35, 'Python'], ['Jane', 40, 'R'], ['Sam', 29, 'Rust']]\n",
    "df = pd.DataFrame(data, columns=['Name', 'Age', 'Programing Language'])\n",
    "df"
   ]
  },
  {
   "cell_type": "markdown",
   "id": "ef6f3ac6-e97c-4181-a633-361a012f4643",
   "metadata": {},
   "source": [
    "### 2.5 Create dataframe from python list of dictionary"
   ]
  },
  {
   "cell_type": "code",
   "execution_count": 103,
   "id": "1fb5b92b-28a6-4c3e-ba7c-33f81c50f5dd",
   "metadata": {
    "tags": []
   },
   "outputs": [
    {
     "data": {
      "text/html": [
       "<div>\n",
       "<style scoped>\n",
       "    .dataframe tbody tr th:only-of-type {\n",
       "        vertical-align: middle;\n",
       "    }\n",
       "\n",
       "    .dataframe tbody tr th {\n",
       "        vertical-align: top;\n",
       "    }\n",
       "\n",
       "    .dataframe thead th {\n",
       "        text-align: right;\n",
       "    }\n",
       "</style>\n",
       "<table border=\"1\" class=\"dataframe\">\n",
       "  <thead>\n",
       "    <tr style=\"text-align: right;\">\n",
       "      <th></th>\n",
       "      <th>Name</th>\n",
       "      <th>Age</th>\n",
       "      <th>Programing Language</th>\n",
       "    </tr>\n",
       "  </thead>\n",
       "  <tbody>\n",
       "    <tr>\n",
       "      <th>0</th>\n",
       "      <td>John</td>\n",
       "      <td>35</td>\n",
       "      <td>Python</td>\n",
       "    </tr>\n",
       "    <tr>\n",
       "      <th>1</th>\n",
       "      <td>Jane</td>\n",
       "      <td>40</td>\n",
       "      <td>R</td>\n",
       "    </tr>\n",
       "    <tr>\n",
       "      <th>2</th>\n",
       "      <td>Sam</td>\n",
       "      <td>29</td>\n",
       "      <td>Rust</td>\n",
       "    </tr>\n",
       "  </tbody>\n",
       "</table>\n",
       "</div>"
      ],
      "text/plain": [
       "   Name  Age Programing Language\n",
       "0  John   35              Python\n",
       "1  Jane   40                   R\n",
       "2   Sam   29                Rust"
      ]
     },
     "execution_count": 103,
     "metadata": {},
     "output_type": "execute_result"
    }
   ],
   "source": [
    "data = [\n",
    "    {'Name': 'John', 'Age':35, 'Programing Language': 'Python' },\n",
    "    {'Name': 'Jane', 'Age': 40, 'Programing Language': 'R'},\n",
    "    {'Name': 'Sam', 'Age': 29, 'Programing Language': 'Rust'},\n",
    "]\n",
    "\n",
    "df = pd.DataFrame(data)\n",
    "df"
   ]
  },
  {
   "cell_type": "code",
   "execution_count": 107,
   "id": "7809db56-8981-4b6f-aa2e-bec098dc6c53",
   "metadata": {
    "tags": []
   },
   "outputs": [
    {
     "data": {
      "text/html": [
       "<div>\n",
       "<style scoped>\n",
       "    .dataframe tbody tr th:only-of-type {\n",
       "        vertical-align: middle;\n",
       "    }\n",
       "\n",
       "    .dataframe tbody tr th {\n",
       "        vertical-align: top;\n",
       "    }\n",
       "\n",
       "    .dataframe thead th {\n",
       "        text-align: right;\n",
       "    }\n",
       "</style>\n",
       "<table border=\"1\" class=\"dataframe\">\n",
       "  <thead>\n",
       "    <tr style=\"text-align: right;\">\n",
       "      <th></th>\n",
       "      <th>Name</th>\n",
       "      <th>Age</th>\n",
       "      <th>Programing Language</th>\n",
       "    </tr>\n",
       "    <tr>\n",
       "      <th>Name</th>\n",
       "      <th></th>\n",
       "      <th></th>\n",
       "      <th></th>\n",
       "    </tr>\n",
       "  </thead>\n",
       "  <tbody>\n",
       "    <tr>\n",
       "      <th>John</th>\n",
       "      <td>John</td>\n",
       "      <td>35</td>\n",
       "      <td>Python</td>\n",
       "    </tr>\n",
       "    <tr>\n",
       "      <th>Jane</th>\n",
       "      <td>Jane</td>\n",
       "      <td>40</td>\n",
       "      <td>R</td>\n",
       "    </tr>\n",
       "    <tr>\n",
       "      <th>Sam</th>\n",
       "      <td>Sam</td>\n",
       "      <td>29</td>\n",
       "      <td>Rust</td>\n",
       "    </tr>\n",
       "  </tbody>\n",
       "</table>\n",
       "</div>"
      ],
      "text/plain": [
       "      Name  Age Programing Language\n",
       "Name                               \n",
       "John  John   35              Python\n",
       "Jane  Jane   40                   R\n",
       "Sam    Sam   29                Rust"
      ]
     },
     "execution_count": 107,
     "metadata": {},
     "output_type": "execute_result"
    }
   ],
   "source": [
    "# Set index by using name\n",
    "\n",
    "df.set_index(df.Name, inplace=True)\n",
    "df"
   ]
  },
  {
   "cell_type": "code",
   "execution_count": null,
   "id": "4969b562-cef3-4ba2-ae21-5ffe3e096455",
   "metadata": {},
   "outputs": [],
   "source": []
  }
 ],
 "metadata": {
  "kernelspec": {
   "display_name": "Python 3 (ipykernel)",
   "language": "python",
   "name": "python3"
  },
  "language_info": {
   "codemirror_mode": {
    "name": "ipython",
    "version": 3
   },
   "file_extension": ".py",
   "mimetype": "text/x-python",
   "name": "python",
   "nbconvert_exporter": "python",
   "pygments_lexer": "ipython3",
   "version": "3.11.7"
  }
 },
 "nbformat": 4,
 "nbformat_minor": 5
}
